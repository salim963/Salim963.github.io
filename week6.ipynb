{
 "cells": [
  {
   "attachments": {},
   "cell_type": "markdown",
   "metadata": {},
   "source": [
    "## Part 2"
   ]
  },
  {
   "attachments": {},
   "cell_type": "markdown",
   "metadata": {},
   "source": [
    "1. If you haven't installed it yet please do so. You can simply follow these steps\n",
    "2. To include Bokeh in your notebooks you can follow the Bokeh: Using with Jupyter guide. Come back to this one when you need it.\n",
    "3. We aim to give you a gentle start with Bokeh and I am going to include more example code than usual in the follwing.\n",
    "\n"
   ]
  },
  {
   "cell_type": "code",
   "execution_count": 2,
   "metadata": {},
   "outputs": [],
   "source": [
    "from bokeh.plotting import figure, output_file, show\n",
    "\n",
    "output_file(\"output.html\")\n",
    "\n",
    "p = figure()\n",
    "p.line(x=[1, 2, 3], y=[4,6,2])\n",
    "\n",
    "show(p)"
   ]
  },
  {
   "cell_type": "code",
   "execution_count": 1,
   "metadata": {},
   "outputs": [],
   "source": [
    "from bokeh.plotting import figure, output_file, show\n",
    "\n",
    "# create a figure object\n",
    "p = figure(width=300, height=300, tools=\"pan,reset,save\")\n",
    "\n",
    "# add a Circle renderer to this figure\n",
    "p.circle([1, 2.5, 3, 2], [2, 3, 1, 1.5], radius=0.3, alpha=0.5)\n",
    "\n",
    "# specify how to output the plot(s)\n",
    "output_file(\"foo.html\")\n",
    "\n",
    "# display the figure\n",
    "show(p)"
   ]
  },
  {
   "cell_type": "code",
   "execution_count": 4,
   "metadata": {},
   "outputs": [],
   "source": [
    "from bokeh.plotting import figure, show\n",
    "\n",
    "p = figure(width=400, height=400)\n",
    "\n",
    "# add a square renderer with a size, color, and alpha\n",
    "p.diamond_dot([1, 2, 3, 4, 5], [6, 7, 2, 4, 5], size=20, color=\"olive\", alpha=0.5)\n",
    "\n",
    "# show the results\n",
    "show(p)"
   ]
  },
  {
   "cell_type": "code",
   "execution_count": 115,
   "metadata": {},
   "outputs": [],
   "source": [
    "import pandas as pd \n",
    "df = pd.read_csv(\"../../../datasat.csv\")\n",
    "df['Date'] = pd.to_datetime(df['Date'])\n",
    "# slice the dataframe to get data between 2010 and 2017\n",
    "df = df[(df['Date'].dt.year >= 2010) & (df['Date'].dt.year <= 2017)]\n",
    "focuscrimes = set(['WEAPON LAWS', 'PROSTITUTION', 'DRIVING UNDER THE INFLUENCE', 'ROBBERY', 'BURGLARY', 'ASSAULT', 'DRUNKENNESS', 'DRUG/NARCOTIC', 'TRESPASS', 'LARCENY/THEFT', 'VANDALISM', 'VEHICLE THEFT', 'STOLEN PROPERTY', 'DISORDERLY CONDUCT'])\n",
    "df = df[df['Category'].isin(focuscrimes)]\n"
   ]
  },
  {
   "attachments": {},
   "cell_type": "markdown",
   "metadata": {},
   "source": [
    "#### Data prep\n",
    "1. Take the data for the period of 2010-2017 and group it by hour-of-the-day.\n"
   ]
  },
  {
   "cell_type": "code",
   "execution_count": 116,
   "metadata": {},
   "outputs": [],
   "source": [
    "df['HourOfDay'] = df['Time'].str.strip().str[0:2]\n"
   ]
  },
  {
   "cell_type": "code",
   "execution_count": 117,
   "metadata": {},
   "outputs": [
    {
     "name": "stdout",
     "output_type": "stream",
     "text": [
      "        Category HourOfDay  hourly_percentage\n",
      "0        ASSAULT        00           0.055468\n",
      "1        ASSAULT        01           0.049745\n",
      "2        ASSAULT        02           0.044837\n",
      "3        ASSAULT        03           0.023267\n",
      "4        ASSAULT        04           0.014025\n",
      "..           ...       ...                ...\n",
      "331  WEAPON LAWS        19           0.065000\n",
      "332  WEAPON LAWS        20           0.054413\n",
      "333  WEAPON LAWS        21           0.052851\n",
      "334  WEAPON LAWS        22           0.062918\n",
      "335  WEAPON LAWS        23           0.054760\n",
      "\n",
      "[336 rows x 3 columns]\n"
     ]
    }
   ],
   "source": [
    "# group the dataframe by \"Category\" and \"HourOfDay\", then calculate the count for each group\n",
    "crime_hourly_counts = df.groupby(['Category', 'HourOfDay']).size().reset_index(name='count')\n",
    "\n",
    "# calculate the total count for each crime category\n",
    "crime_category_counts = df.groupby(['Category']).size().reset_index(name='total_count')\n",
    "\n",
    "# merge the two dataframes to get the total count for each row\n",
    "crime_hourly_counts = pd.merge(crime_hourly_counts, crime_category_counts, on='Category')\n",
    "\n",
    "# calculate the hourly percentage of each crime type\n",
    "crime_hourly_counts['hourly_percentage'] = crime_hourly_counts['count'] / crime_hourly_counts['total_count']\n",
    "\n",
    "\n",
    "columns = ['Category', 'HourOfDay', 'hourly_percentage']\n",
    "focusData =  pd.DataFrame(crime_hourly_counts, columns=columns)\n",
    "print(focusData)"
   ]
  },
  {
   "cell_type": "code",
   "execution_count": 118,
   "metadata": {},
   "outputs": [
    {
     "name": "stdout",
     "output_type": "stream",
     "text": [
      "Category    ASSAULT  BURGLARY  DISORDERLY CONDUCT  \\\n",
      "HourOfDay                                           \n",
      "00         0.055468  0.040191            0.052282   \n",
      "01         0.049745  0.027653            0.038354   \n",
      "02         0.044837  0.031432            0.032569   \n",
      "03         0.023267  0.032765            0.018642   \n",
      "04         0.014025  0.029379            0.014999   \n",
      "05         0.011857  0.025644            0.060210   \n",
      "06         0.015573  0.022892            0.119777   \n",
      "07         0.022212  0.032284            0.101564   \n",
      "08         0.033324  0.048688            0.074566   \n",
      "09         0.035732  0.044997            0.053139   \n",
      "10         0.040480  0.041786            0.040926   \n",
      "11         0.042750  0.039973            0.036212   \n",
      "12         0.053690  0.051462            0.030641   \n",
      "13         0.046454  0.033660            0.039854   \n",
      "14         0.046810  0.037898            0.028498   \n",
      "15         0.052371  0.043686            0.031069   \n",
      "16         0.052371  0.050698            0.027427   \n",
      "17         0.053232  0.065508            0.025712   \n",
      "18         0.051626  0.066796            0.032783   \n",
      "19         0.052177  0.053275            0.024641   \n",
      "20         0.051167  0.047640            0.022284   \n",
      "21         0.052589  0.046286            0.022284   \n",
      "22         0.049837  0.043992            0.035355   \n",
      "23         0.048404  0.041415            0.036212   \n",
      "\n",
      "Category   DRIVING UNDER THE INFLUENCE  DRUG/NARCOTIC  DRUNKENNESS  \\\n",
      "HourOfDay                                                            \n",
      "00                            0.121869       0.035064     0.080276   \n",
      "01                            0.114539       0.020654     0.077235   \n",
      "02                            0.098656       0.016746     0.070140   \n",
      "03                            0.047954       0.012489     0.027367   \n",
      "04                            0.017410       0.009279     0.014393   \n",
      "05                            0.010690       0.005284     0.005068   \n",
      "06                            0.012523       0.010982     0.009122   \n",
      "07                            0.008552       0.024759     0.020069   \n",
      "08                            0.008247       0.032400     0.017231   \n",
      "09                            0.013134       0.038252     0.021488   \n",
      "10                            0.004887       0.038797     0.022299   \n",
      "11                            0.008858       0.044845     0.031826   \n",
      "12                            0.010079       0.052050     0.029191   \n",
      "13                            0.011912       0.060827     0.029597   \n",
      "14                            0.013134       0.060652     0.033043   \n",
      "15                            0.019243       0.069538     0.040138   \n",
      "16                            0.031155       0.078599     0.044395   \n",
      "17                            0.035736       0.083643     0.047638   \n",
      "18                            0.036958       0.072639     0.053923   \n",
      "19                            0.042761       0.061351     0.050071   \n",
      "20                            0.057728       0.045959     0.060815   \n",
      "21                            0.066280       0.038972     0.062639   \n",
      "22                            0.092853       0.045653     0.075613   \n",
      "23                            0.114844       0.040566     0.076424   \n",
      "\n",
      "Category   LARCENY/THEFT  PROSTITUTION   ROBBERY  STOLEN PROPERTY  TRESPASS  \\\n",
      "HourOfDay                                                                     \n",
      "00              0.039479      0.129656  0.056201         0.044247  0.027969   \n",
      "01              0.025431      0.095748  0.060538         0.033786  0.021191   \n",
      "02              0.015607      0.060436  0.061111         0.029686  0.025391   \n",
      "03              0.009971      0.036367  0.037957         0.023325  0.021382   \n",
      "04              0.006543      0.019501  0.023943         0.020356  0.015559   \n",
      "05              0.006631      0.010190  0.019642         0.016398  0.038851   \n",
      "06              0.010058      0.008433  0.017849         0.017246  0.075601   \n",
      "07              0.015137      0.005095  0.016559         0.024314  0.074360   \n",
      "08              0.025859      0.004919  0.019749         0.027990  0.064147   \n",
      "09              0.031942      0.002811  0.022330         0.031807  0.056510   \n",
      "10              0.041112      0.005622  0.025842         0.035482  0.050783   \n",
      "11              0.046137      0.011947  0.029713         0.042692  0.048587   \n",
      "12              0.056196      0.037597  0.035484         0.051597  0.051355   \n",
      "13              0.050278      0.014230  0.037097         0.054990  0.049160   \n",
      "14              0.051816      0.023893  0.038996         0.057252  0.041333   \n",
      "15              0.055465      0.022663  0.041219         0.056545  0.046296   \n",
      "16              0.058496      0.023542  0.046703         0.063048  0.042574   \n",
      "17              0.066967      0.025650  0.046989         0.064885  0.043242   \n",
      "18              0.082894      0.041110  0.050394         0.065875  0.040760   \n",
      "19              0.078589      0.078180  0.053369         0.055131  0.036273   \n",
      "20              0.069092      0.065004  0.059283         0.050184  0.034842   \n",
      "21              0.056487      0.052881  0.069140         0.047074  0.033792   \n",
      "22              0.053348      0.095748  0.066237         0.045802  0.030260   \n",
      "23              0.046464      0.128777  0.063656         0.040288  0.029782   \n",
      "\n",
      "Category   VANDALISM  VEHICLE THEFT  WEAPON LAWS  \n",
      "HourOfDay                                         \n",
      "00          0.054945       0.035913     0.054413  \n",
      "01          0.038576       0.024113     0.039486  \n",
      "02          0.035994       0.018234     0.032891  \n",
      "03          0.026022       0.011841     0.022737  \n",
      "04          0.017797       0.010011     0.016662  \n",
      "05          0.014670       0.009991     0.007377  \n",
      "06          0.017059       0.015274     0.011542  \n",
      "07          0.021645       0.022757     0.021609  \n",
      "08          0.031377       0.032932     0.024212  \n",
      "09          0.029629       0.033159     0.031849  \n",
      "10          0.031681       0.031350     0.031329  \n",
      "11          0.029725       0.028163     0.033845  \n",
      "12          0.039297       0.042779     0.045561  \n",
      "13          0.031329       0.029849     0.046689  \n",
      "14          0.034968       0.035379     0.043825  \n",
      "15          0.041478       0.042903     0.054413  \n",
      "16          0.045502       0.052606     0.061789  \n",
      "17          0.060108       0.069175     0.061963  \n",
      "18          0.073335       0.083523     0.067864  \n",
      "19          0.068125       0.074108     0.065000  \n",
      "20          0.065511       0.080214     0.054413  \n",
      "21          0.065575       0.072649     0.052851  \n",
      "22          0.065431       0.078775     0.062918  \n",
      "23          0.060220       0.064303     0.054760  \n"
     ]
    }
   ],
   "source": [
    "# Pivot the dataframe\n",
    "pivoted_focusData = focusData.pivot_table(index='HourOfDay', columns='Category', values='hourly_percentage')\n",
    "\n",
    "# Display the pivoted dataframe\n",
    "print(pivoted_focusData)\n"
   ]
  },
  {
   "attachments": {},
   "cell_type": "markdown",
   "metadata": {},
   "source": [
    "1. First, let's convert our Pandas Dataframe to Bokeh ColumnDataSource:"
   ]
  },
  {
   "cell_type": "code",
   "execution_count": 119,
   "metadata": {},
   "outputs": [
    {
     "data": {
      "text/html": [
       "<style>\n",
       "        .bk-notebook-logo {\n",
       "            display: block;\n",
       "            width: 20px;\n",
       "            height: 20px;\n",
       "            background-image: url(data:image/png;base64,iVBORw0KGgoAAAANSUhEUgAAABQAAAAUCAYAAACNiR0NAAAABHNCSVQICAgIfAhkiAAAAAlwSFlzAAALEgAACxIB0t1+/AAAABx0RVh0U29mdHdhcmUAQWRvYmUgRmlyZXdvcmtzIENTNui8sowAAAOkSURBVDiNjZRtaJVlGMd/1/08zzln5zjP1LWcU9N0NkN8m2CYjpgQYQXqSs0I84OLIC0hkEKoPtiH3gmKoiJDU7QpLgoLjLIQCpEsNJ1vqUOdO7ppbuec5+V+rj4ctwzd8IIbbi6u+8f1539dt3A78eXC7QizUF7gyV1fD1Yqg4JWz84yffhm0qkFqBogB9rM8tZdtwVsPUhWhGcFJngGeWrPzHm5oaMmkfEg1usvLFyc8jLRqDOMru7AyC8saQr7GG7f5fvDeH7Ej8CM66nIF+8yngt6HWaKh7k49Soy9nXurCi1o3qUbS3zWfrYeQDTB/Qj6kX6Ybhw4B+bOYoLKCC9H3Nu/leUTZ1JdRWkkn2ldcCamzrcf47KKXdAJllSlxAOkRgyHsGC/zRday5Qld9DyoM4/q/rUoy/CXh3jzOu3bHUVZeU+DEn8FInkPBFlu3+nW3Nw0mk6vCDiWg8CeJaxEwuHS3+z5RgY+YBR6V1Z1nxSOfoaPa4LASWxxdNp+VWTk7+4vzaou8v8PN+xo+KY2xsw6une2frhw05CTYOmQvsEhjhWjn0bmXPjpE1+kplmmkP3suftwTubK9Vq22qKmrBhpY4jvd5afdRA3wGjFAgcnTK2s4hY0/GPNIb0nErGMCRxWOOX64Z8RAC4oCXdklmEvcL8o0BfkNK4lUg9HTl+oPlQxdNo3Mg4Nv175e/1LDGzZen30MEjRUtmXSfiTVu1kK8W4txyV6BMKlbgk3lMwYCiusNy9fVfvvwMxv8Ynl6vxoByANLTWplvuj/nF9m2+PDtt1eiHPBr1oIfhCChQMBw6Aw0UulqTKZdfVvfG7VcfIqLG9bcldL/+pdWTLxLUy8Qq38heUIjh4XlzZxzQm19lLFlr8vdQ97rjZVOLf8nclzckbcD4wxXMidpX30sFd37Fv/GtwwhzhxGVAprjbg0gCAEeIgwCZyTV2Z1REEW8O4py0wsjeloKoMr6iCY6dP92H6Vw/oTyICIthibxjm/DfN9lVz8IqtqKYLUXfoKVMVQVVJOElGjrnnUt9T9wbgp8AyYKaGlqingHZU/uG2NTZSVqwHQTWkx9hxjkpWDaCg6Ckj5qebgBVbT3V3NNXMSiWSDdGV3hrtzla7J+duwPOToIg42ChPQOQjspnSlp1V+Gjdged7+8UN5CRAV7a5EdFNwCjEaBR27b3W890TE7g24NAP/mMDXRWrGoFPQI9ls/MWO2dWFAar/xcOIImbbpA3zgAAAABJRU5ErkJggg==);\n",
       "        }\n",
       "    </style>\n",
       "    <div>\n",
       "        <a href=\"https://bokeh.org\" target=\"_blank\" class=\"bk-notebook-logo\"></a>\n",
       "        <span id=\"p1271721\">Loading BokehJS ...</span>\n",
       "    </div>\n"
      ]
     },
     "metadata": {},
     "output_type": "display_data"
    },
    {
     "data": {
      "application/javascript": "(function(root) {\n  function now() {\n    return new Date();\n  }\n\n  const force = true;\n\n  if (typeof root._bokeh_onload_callbacks === \"undefined\" || force === true) {\n    root._bokeh_onload_callbacks = [];\n    root._bokeh_is_loading = undefined;\n  }\n\nconst JS_MIME_TYPE = 'application/javascript';\n  const HTML_MIME_TYPE = 'text/html';\n  const EXEC_MIME_TYPE = 'application/vnd.bokehjs_exec.v0+json';\n  const CLASS_NAME = 'output_bokeh rendered_html';\n\n  /**\n   * Render data to the DOM node\n   */\n  function render(props, node) {\n    const script = document.createElement(\"script\");\n    node.appendChild(script);\n  }\n\n  /**\n   * Handle when an output is cleared or removed\n   */\n  function handleClearOutput(event, handle) {\n    const cell = handle.cell;\n\n    const id = cell.output_area._bokeh_element_id;\n    const server_id = cell.output_area._bokeh_server_id;\n    // Clean up Bokeh references\n    if (id != null && id in Bokeh.index) {\n      Bokeh.index[id].model.document.clear();\n      delete Bokeh.index[id];\n    }\n\n    if (server_id !== undefined) {\n      // Clean up Bokeh references\n      const cmd_clean = \"from bokeh.io.state import curstate; print(curstate().uuid_to_server['\" + server_id + \"'].get_sessions()[0].document.roots[0]._id)\";\n      cell.notebook.kernel.execute(cmd_clean, {\n        iopub: {\n          output: function(msg) {\n            const id = msg.content.text.trim();\n            if (id in Bokeh.index) {\n              Bokeh.index[id].model.document.clear();\n              delete Bokeh.index[id];\n            }\n          }\n        }\n      });\n      // Destroy server and session\n      const cmd_destroy = \"import bokeh.io.notebook as ion; ion.destroy_server('\" + server_id + \"')\";\n      cell.notebook.kernel.execute(cmd_destroy);\n    }\n  }\n\n  /**\n   * Handle when a new output is added\n   */\n  function handleAddOutput(event, handle) {\n    const output_area = handle.output_area;\n    const output = handle.output;\n\n    // limit handleAddOutput to display_data with EXEC_MIME_TYPE content only\n    if ((output.output_type != \"display_data\") || (!Object.prototype.hasOwnProperty.call(output.data, EXEC_MIME_TYPE))) {\n      return\n    }\n\n    const toinsert = output_area.element.find(\".\" + CLASS_NAME.split(' ')[0]);\n\n    if (output.metadata[EXEC_MIME_TYPE][\"id\"] !== undefined) {\n      toinsert[toinsert.length - 1].firstChild.textContent = output.data[JS_MIME_TYPE];\n      // store reference to embed id on output_area\n      output_area._bokeh_element_id = output.metadata[EXEC_MIME_TYPE][\"id\"];\n    }\n    if (output.metadata[EXEC_MIME_TYPE][\"server_id\"] !== undefined) {\n      const bk_div = document.createElement(\"div\");\n      bk_div.innerHTML = output.data[HTML_MIME_TYPE];\n      const script_attrs = bk_div.children[0].attributes;\n      for (let i = 0; i < script_attrs.length; i++) {\n        toinsert[toinsert.length - 1].firstChild.setAttribute(script_attrs[i].name, script_attrs[i].value);\n        toinsert[toinsert.length - 1].firstChild.textContent = bk_div.children[0].textContent\n      }\n      // store reference to server id on output_area\n      output_area._bokeh_server_id = output.metadata[EXEC_MIME_TYPE][\"server_id\"];\n    }\n  }\n\n  function register_renderer(events, OutputArea) {\n\n    function append_mime(data, metadata, element) {\n      // create a DOM node to render to\n      const toinsert = this.create_output_subarea(\n        metadata,\n        CLASS_NAME,\n        EXEC_MIME_TYPE\n      );\n      this.keyboard_manager.register_events(toinsert);\n      // Render to node\n      const props = {data: data, metadata: metadata[EXEC_MIME_TYPE]};\n      render(props, toinsert[toinsert.length - 1]);\n      element.append(toinsert);\n      return toinsert\n    }\n\n    /* Handle when an output is cleared or removed */\n    events.on('clear_output.CodeCell', handleClearOutput);\n    events.on('delete.Cell', handleClearOutput);\n\n    /* Handle when a new output is added */\n    events.on('output_added.OutputArea', handleAddOutput);\n\n    /**\n     * Register the mime type and append_mime function with output_area\n     */\n    OutputArea.prototype.register_mime_type(EXEC_MIME_TYPE, append_mime, {\n      /* Is output safe? */\n      safe: true,\n      /* Index of renderer in `output_area.display_order` */\n      index: 0\n    });\n  }\n\n  // register the mime type if in Jupyter Notebook environment and previously unregistered\n  if (root.Jupyter !== undefined) {\n    const events = require('base/js/events');\n    const OutputArea = require('notebook/js/outputarea').OutputArea;\n\n    if (OutputArea.prototype.mime_types().indexOf(EXEC_MIME_TYPE) == -1) {\n      register_renderer(events, OutputArea);\n    }\n  }\n  if (typeof (root._bokeh_timeout) === \"undefined\" || force === true) {\n    root._bokeh_timeout = Date.now() + 5000;\n    root._bokeh_failed_load = false;\n  }\n\n  const NB_LOAD_WARNING = {'data': {'text/html':\n     \"<div style='background-color: #fdd'>\\n\"+\n     \"<p>\\n\"+\n     \"BokehJS does not appear to have successfully loaded. If loading BokehJS from CDN, this \\n\"+\n     \"may be due to a slow or bad network connection. Possible fixes:\\n\"+\n     \"</p>\\n\"+\n     \"<ul>\\n\"+\n     \"<li>re-rerun `output_notebook()` to attempt to load from CDN again, or</li>\\n\"+\n     \"<li>use INLINE resources instead, as so:</li>\\n\"+\n     \"</ul>\\n\"+\n     \"<code>\\n\"+\n     \"from bokeh.resources import INLINE\\n\"+\n     \"output_notebook(resources=INLINE)\\n\"+\n     \"</code>\\n\"+\n     \"</div>\"}};\n\n  function display_loaded() {\n    const el = document.getElementById(\"p1271721\");\n    if (el != null) {\n      el.textContent = \"BokehJS is loading...\";\n    }\n    if (root.Bokeh !== undefined) {\n      if (el != null) {\n        el.textContent = \"BokehJS \" + root.Bokeh.version + \" successfully loaded.\";\n      }\n    } else if (Date.now() < root._bokeh_timeout) {\n      setTimeout(display_loaded, 100)\n    }\n  }\n\n  function run_callbacks() {\n    try {\n      root._bokeh_onload_callbacks.forEach(function(callback) {\n        if (callback != null)\n          callback();\n      });\n    } finally {\n      delete root._bokeh_onload_callbacks\n    }\n    console.debug(\"Bokeh: all callbacks have finished\");\n  }\n\n  function load_libs(css_urls, js_urls, callback) {\n    if (css_urls == null) css_urls = [];\n    if (js_urls == null) js_urls = [];\n\n    root._bokeh_onload_callbacks.push(callback);\n    if (root._bokeh_is_loading > 0) {\n      console.debug(\"Bokeh: BokehJS is being loaded, scheduling callback at\", now());\n      return null;\n    }\n    if (js_urls == null || js_urls.length === 0) {\n      run_callbacks();\n      return null;\n    }\n    console.debug(\"Bokeh: BokehJS not loaded, scheduling load and callback at\", now());\n    root._bokeh_is_loading = css_urls.length + js_urls.length;\n\n    function on_load() {\n      root._bokeh_is_loading--;\n      if (root._bokeh_is_loading === 0) {\n        console.debug(\"Bokeh: all BokehJS libraries/stylesheets loaded\");\n        run_callbacks()\n      }\n    }\n\n    function on_error(url) {\n      console.error(\"failed to load \" + url);\n    }\n\n    for (let i = 0; i < css_urls.length; i++) {\n      const url = css_urls[i];\n      const element = document.createElement(\"link\");\n      element.onload = on_load;\n      element.onerror = on_error.bind(null, url);\n      element.rel = \"stylesheet\";\n      element.type = \"text/css\";\n      element.href = url;\n      console.debug(\"Bokeh: injecting link tag for BokehJS stylesheet: \", url);\n      document.body.appendChild(element);\n    }\n\n    for (let i = 0; i < js_urls.length; i++) {\n      const url = js_urls[i];\n      const element = document.createElement('script');\n      element.onload = on_load;\n      element.onerror = on_error.bind(null, url);\n      element.async = false;\n      element.src = url;\n      console.debug(\"Bokeh: injecting script tag for BokehJS library: \", url);\n      document.head.appendChild(element);\n    }\n  };\n\n  function inject_raw_css(css) {\n    const element = document.createElement(\"style\");\n    element.appendChild(document.createTextNode(css));\n    document.body.appendChild(element);\n  }\n\n  const js_urls = [\"https://cdn.bokeh.org/bokeh/release/bokeh-3.1.0.min.js\", \"https://cdn.bokeh.org/bokeh/release/bokeh-gl-3.1.0.min.js\", \"https://cdn.bokeh.org/bokeh/release/bokeh-widgets-3.1.0.min.js\", \"https://cdn.bokeh.org/bokeh/release/bokeh-tables-3.1.0.min.js\", \"https://cdn.bokeh.org/bokeh/release/bokeh-mathjax-3.1.0.min.js\"];\n  const css_urls = [];\n\n  const inline_js = [    function(Bokeh) {\n      Bokeh.set_log_level(\"info\");\n    },\nfunction(Bokeh) {\n    }\n  ];\n\n  function run_inline_js() {\n    if (root.Bokeh !== undefined || force === true) {\n          for (let i = 0; i < inline_js.length; i++) {\n      inline_js[i].call(root, root.Bokeh);\n    }\nif (force === true) {\n        display_loaded();\n      }} else if (Date.now() < root._bokeh_timeout) {\n      setTimeout(run_inline_js, 100);\n    } else if (!root._bokeh_failed_load) {\n      console.log(\"Bokeh: BokehJS failed to load within specified timeout.\");\n      root._bokeh_failed_load = true;\n    } else if (force !== true) {\n      const cell = $(document.getElementById(\"p1271721\")).parents('.cell').data().cell;\n      cell.output_area.append_execute_result(NB_LOAD_WARNING)\n    }\n  }\n\n  if (root._bokeh_is_loading === 0) {\n    console.debug(\"Bokeh: BokehJS loaded, going straight to plotting\");\n    run_inline_js();\n  } else {\n    load_libs(css_urls, js_urls, function() {\n      console.debug(\"Bokeh: BokehJS plotting callback run at\", now());\n      run_inline_js();\n    });\n  }\n}(window));",
      "application/vnd.bokehjs_load.v0+json": ""
     },
     "metadata": {},
     "output_type": "display_data"
    }
   ],
   "source": [
    "from bokeh.models import ColumnDataSource,Legend\n",
    "from bokeh.io import output_notebook, show\n",
    "from bokeh.palettes import Category10\n",
    "import seaborn as sns\n",
    "\n",
    "source = ColumnDataSource(data=pivoted_focusData)\n",
    "## it is a standard way to convert your df to bokeh\n",
    "output_notebook()\n"
   ]
  },
  {
   "attachments": {},
   "cell_type": "markdown",
   "metadata": {},
   "source": [
    "2. We also need to create an empty figure (we will add our stuff here later on). Mini sub-exercise: Find the a guide how to define a figure in Bokeh online. Here is a little help:"
   ]
  },
  {
   "cell_type": "code",
   "execution_count": 167,
   "metadata": {},
   "outputs": [],
   "source": [
    "# Define a figure with title and axis labels\n",
    "p = figure(x_range=source.data['HourOfDay'], title=\"Hourly Percentage by Category\",x_axis_label='Hour of the Day',width =1200)\n",
    "colo = sns.color_palette('viridis', len(source.data['HourOfDay'])).as_hex()"
   ]
  },
  {
   "attachments": {},
   "cell_type": "markdown",
   "metadata": {},
   "source": [
    "3. Now we are going to add the bars. In order to do so, we will use vbar (see the guide for help):"
   ]
  },
  {
   "cell_type": "code",
   "execution_count": 168,
   "metadata": {},
   "outputs": [],
   "source": [
    "bar ={} # to store vbars\n",
    "items=[]\n",
    "\n",
    "\n",
    "### here we will do a for loop:\n",
    "for indx,category  in enumerate(pivoted_focusData.columns):\n",
    "    bar[category] =p.vbar(x='HourOfDay', \n",
    "    top=category ,\n",
    "    source=source,\n",
    "    muted=True, \n",
    "    muted_alpha=0.05,\n",
    "    fill_alpha=1.9,\n",
    "    color=colo[indx],\n",
    "    width=0.7)\n",
    "    items.append((category, [bar[category]]))\n"
   ]
  },
  {
   "attachments": {},
   "cell_type": "markdown",
   "metadata": {},
   "source": [
    "4. The last thing to do is to make your legend interactive and display the figure:\n"
   ]
  },
  {
   "cell_type": "code",
   "execution_count": 169,
   "metadata": {},
   "outputs": [
    {
     "data": {
      "text/html": [
       "\n",
       "  <div id=\"f2d2d16f-af64-4bcf-8ed7-82590c839e58\" data-root-id=\"p1722045\" style=\"display: contents;\"></div>\n"
      ]
     },
     "metadata": {},
     "output_type": "display_data"
    },
    {
     "data": {
      "application/javascript": "(function(root) {\n  function embed_document(root) {\n  const docs_json = {\"d82d384b-ed36-43a5-a23b-bb1b26b291a7\":{\"version\":\"3.1.0\",\"title\":\"Bokeh Application\",\"defs\":[],\"roots\":[{\"type\":\"object\",\"name\":\"Figure\",\"id\":\"p1722045\",\"attributes\":{\"width\":1200,\"x_range\":{\"type\":\"object\",\"name\":\"FactorRange\",\"id\":\"p1722055\",\"attributes\":{\"factors\":[\"00\",\"01\",\"02\",\"03\",\"04\",\"05\",\"06\",\"07\",\"08\",\"09\",\"10\",\"11\",\"12\",\"13\",\"14\",\"15\",\"16\",\"17\",\"18\",\"19\",\"20\",\"21\",\"22\",\"23\"]}},\"y_range\":{\"type\":\"object\",\"name\":\"DataRange1d\",\"id\":\"p1722047\"},\"x_scale\":{\"type\":\"object\",\"name\":\"CategoricalScale\",\"id\":\"p1722059\"},\"y_scale\":{\"type\":\"object\",\"name\":\"LinearScale\",\"id\":\"p1722061\"},\"title\":{\"type\":\"object\",\"name\":\"Title\",\"id\":\"p1722048\",\"attributes\":{\"text\":\"Hourly Percentage by Category\"}},\"renderers\":[{\"type\":\"object\",\"name\":\"GlyphRenderer\",\"id\":\"p1722097\",\"attributes\":{\"data_source\":{\"type\":\"object\",\"name\":\"ColumnDataSource\",\"id\":\"p1271718\",\"attributes\":{\"selected\":{\"type\":\"object\",\"name\":\"Selection\",\"id\":\"p1271720\",\"attributes\":{\"indices\":[],\"line_indices\":[]}},\"selection_policy\":{\"type\":\"object\",\"name\":\"UnionRenderers\",\"id\":\"p1271719\"},\"data\":{\"type\":\"map\",\"entries\":[[\"HourOfDay\",{\"type\":\"ndarray\",\"array\":[\"00\",\"01\",\"02\",\"03\",\"04\",\"05\",\"06\",\"07\",\"08\",\"09\",\"10\",\"11\",\"12\",\"13\",\"14\",\"15\",\"16\",\"17\",\"18\",\"19\",\"20\",\"21\",\"22\",\"23\"],\"shape\":[24],\"dtype\":\"object\",\"order\":\"little\"}],[\"ASSAULT\",{\"type\":\"ndarray\",\"array\":{\"type\":\"bytes\",\"data\":\"8YnVH0FmrD/axOR2O3ipPzjdQT/t9KY/3rxM0WDTlz8UsKUS7LiMP4Wa8bmdSIg/6Jq4v5Hkjz/DAKci0b6WP00u8T3dD6E/SjQjOoFLoj+GGxiDxLmkPwfYayBf46U/F6pzFkh9qz+rvPVZ28inP9ZPCY9z96c/hxRMSW7Qqj+HFExJbtCqP89fOdooQas/0Vtth7tuqj/BgeYC4baqP4gRM0ucMqo/Nl6BH/3sqj+CoCO2QYSpP2B47RlgyKg/\"},\"shape\":[24],\"dtype\":\"float64\",\"order\":\"little\"}],[\"BURGLARY\",{\"type\":\"ndarray\",\"array\":{\"type\":\"bytes\",\"data\":\"X7Yyx/WTpD/DR+PPK1GcPzrIHWrjF6A/rBTTXIjGoD+fyiFRhxWeP+ybxAhgQpo/JTb5xeRwlz+xBe7Si4egP4dWVvCs7ag/LUwlKtMJpz/PUNnt9WSlP2L1PnFUd6Q/6s+6gEdZqj8j36Cj6juhP/dLs8BXZ6M/O8ZuJgtepj9yrOXTEvWpP2yxU+UZxbA/JpGvb48ZsT9YK1X96EarP5IekSBAZKg/oAvdPr6ypz84oV04IIamP1Mi7g5KNKU/\"},\"shape\":[24],\"dtype\":\"float64\",\"order\":\"little\"}],[\"DISORDERLY CONDUCT\",{\"type\":\"ndarray\",\"array\":{\"type\":\"bytes\",\"data\":\"clJTI7TEqj/Tw0o3MKOjP0ecrbnlrKA/URtKm8MWkz+D3CQgwreOPwPL8djX064/QmW+Q7epvj/vzLgVHAC6P1EbSpvDFrM/dAyHBgs1qz/Z8eXgNPSkP89ySf9WiqI/hXPydERgnz9XSeVEyGekP3zR7wSSLp0/hy0mWJvQnz93gO7MuBWcP3CYH0BdVJo/x4p6cvvIoD9rRx4IhDuZP2HIgSam0ZY/YciBJqbRlj/NuBUcABqiP89ySf9WiqI/\"},\"shape\":[24],\"dtype\":\"float64\",\"order\":\"little\"}],[\"DRIVING UNDER THE INFLUENCE\",{\"type\":\"ndarray\",\"array\":{\"type\":\"bytes\",\"data\":\"MpouHtMyvz/YkjEHalK9P5atYlWGQbk/1MrD7F6NqD/TxWNa5tORPxWrMgzK5IU/ybksOpyliT9E747W1IOBPyZC5c6x44A/BBSASeLlij+8ozX1YAR0P2KcON73I4I/2lDf/IOkhD+NX9kqVmWIPwQUgEni5Yo/Lc1gcU+0kz/zfM2G+uafP6oHI6AATKI/yLTMpyPsoj8VqzIMyuSlP8MzESp3jq0/ynfaL7b3sD9vsi8jM8W3P3zIJmhuZr0/\"},\"shape\":[24],\"dtype\":\"float64\",\"order\":\"little\"}],[\"DRUG/NARCOTIC\",{\"type\":\"ndarray\",\"array\":{\"type\":\"bytes\",\"data\":\"TWN5oefzoT8myR6GWiaVP4w51JvcJZE/yC4rJZeTiT/PWWbM5wCDP6lirtBEpHU/vA4yOsJ9hj8vo9IxW1qZP47cdrvGlqA/9vey3raVoz92puHOQd2jPxdn0lLz9aY/dGYHglCmqj+Rj+G2uCSvP+2KJO/TDa8/eGtqkEXNsT/MEyGNEx+0P8YG2pCaabU/pfQX/XOYsj98nRgOZ2mvP6pkJ8zlh6c/Gauelib0oz+LnJxu1V+nP251OzUOxaQ/\"},\"shape\":[24],\"dtype\":\"float64\",\"order\":\"little\"}],[\"DRUNKENNESS\",{\"type\":\"ndarray\",\"array\":{\"type\":\"bytes\",\"data\":\"Ba2yqfKMtD8SkxZpq8WzPzIBVdKv9LE/HqbzFQUGnD84gY6OAXqNP5te7boWwnQ/v26iDq6ugj8FrbKp8oyUP9H2fLj5pJE/H4hNIu8Alj93Tjhnf9WWP4F0f0iPS6A/ZOQDsUnknT+QR3nTkU6eP0OJL3z76qA/Ba2yqfKMpD+s9Zpe7bqmP1yCcOgNZKg/8kJ+87ybqz/hq9BP5qKpP+gNZBgiI68/hhb2MiIJsD/mL6FGY1uzP3zh21eHkLM/\"},\"shape\":[24],\"dtype\":\"float64\",\"order\":\"little\"}],[\"LARCENY/THEFT\",{\"type\":\"ndarray\",\"array\":{\"type\":\"bytes\",\"data\":\"EE/ig4w2pD8ye4PzeAqaP29bqx7L9o8/UwGJk3xrhD+RC5cfu8x6Pz155ezLKHs/KTgw+oSZhD8HIQK7DgCPP+tSv+PKepo//VQbRa9aoD9AQdL6mQylPwtAB8JUn6c/FU6TALbFrD9JJXjYDr6pP1A5nIWuh6o/lZ68cvZlrD+qWyfUOfOtPz5xUMrEJLE/D9MsFZA4tT8SH2S0YR60P1KqcJoEsLE/CvkYDuvrrD/hPJ6CYlCrP0g9N0Akyqc/\"},\"shape\":[24],\"dtype\":\"float64\",\"order\":\"little\"}],[\"PROSTITUTION\",{\"type\":\"ndarray\",\"array\":{\"type\":\"bytes\",\"data\":\"LZppe46YwD+bi4jn94K4P8SvYY9t8a4/6PeCWKyeoj8P4ZOWFfiTP3589L9b3oQ/wA5yGkNFgT9+fPS/W950P4tm2p4jJnQ/Vr5CIwQHZz9WvkIjBAd3PzvqdmV0d4g/HMt5dd0/oz/leKA84SSNPzvqdmV0d5g/00OJKxI1lz9C3+lUWBuYPxohOLgARJo/+wE7yGkMpT9ugqUYmQO0P4w7e/0RpLA/y3l13T8Tqz+bi4jn94K4P7+GPbbFe8A/\"},\"shape\":[24],\"dtype\":\"float64\",\"order\":\"little\"}],[\"ROBBERY\",{\"type\":\"ndarray\",\"array\":{\"type\":\"bytes\",\"data\":\"cce6IVfGrD//nuzvyf6uP5/0SZ/0Sa8/b5PxNhlvoz/abfEybISYP3JpeezrHJQ/RxJyJCFHkj/1EE4P4fSQP45pPO4bOZQ/M2yEGJzdlj8hxbv8ZnaaPxjJJzwnbZ4/KxKvIvEqoj/+kuUvWf6iP6K+ypRW96M/cGpU/JsapT8/7UApZOmnPw+Y74D5Dqg/eMQp8kbNqT+p8N1fNFOrP7BzUJBcWq4/s1EyGyWzsT/1EE4P4fSwP0wQvATBS7A/\"},\"shape\":[24],\"dtype\":\"float64\",\"order\":\"little\"}],[\"STOLEN PROPERTY\",{\"type\":\"ndarray\",\"array\":{\"type\":\"bytes\",\"data\":\"64FtZ3unpj9QKGPGW0yhP0RrVnYNZp4/bJ2xSnjilz9MLNy+Q9iUP3aVv1moypA/pGyzgQCpkT8hw/gj3+WYP+i8biZdqZw/mwIc7fRIoD9+/1busyqiPwFSI5iq26U/snvjaflqqj8NKsu5qSesP0qeZUQfUK0/91kViXrzrD8TtMg75iOwP0xzF/xVnLA/ujxpsi/dsD9R0XQSMTqsPwvzQvOvsak/N5OuVA4aqD/Vsbc2THOnP4A237StoKQ/\"},\"shape\":[24],\"dtype\":\"float64\",\"order\":\"little\"}],[\"TRESPASS\",{\"type\":\"ndarray\",\"array\":{\"type\":\"bytes\",\"data\":\"cjZJCdOjnD8WRmmxK7OVP2/X7AsyAJo/a7VAnjfllT914yvNl92PPz+AoGI95KM/Ew5Ql5xasz8o+XE2SQmzPxCIsLbpa7A/cl2M7OTurD9v1+wLMgCqP0QXFnpt4Kg/cP4v70NLqj9EPlldfyupP+rTGOaKKaU/QnsJ7SW0pz/A/dSnMcylP5YATobGI6Y/6qzVAnnepD+9UPLjbJKiPz1vyivA1qE/Ef15YB9NoT90bmIjYvyePx7YR1NEf54/\"},\"shape\":[24],\"dtype\":\"float64\",\"order\":\"little\"}],[\"VANDALISM\",{\"type\":\"ndarray\",\"array\":{\"type\":\"bytes\",\"data\":\"rgQE780hrD/c6lQFL8CjPyEG2QfYbaI/+H0/UW+lmj+oO35/TjmSPyLK65NzC44/9LjJN/h3kT8ma02GBSqWPzuDKWqdEKA/f7qh5xpXnj9QUDsPizigP0i1M65ScJ4/T1f4LcAepD+JBIV4TwqgP5jMIzpZ56E/kXEZo408pT80L9zxBkynPyTO++l7xq4/4vPXPhvGsj/Oz4lInXCxP4sIlc5XxbA/V7ICxYvJsD9L9IvaFsCwP26ge8gx1a4/\"},\"shape\":[24],\"dtype\":\"float64\",\"order\":\"little\"}],[\"VEHICLE THEFT\",{\"type\":\"ndarray\",\"array\":{\"type\":\"bytes\",\"data\":\"ZrJRrDhjoj+WIx7tM7GYP6G8mcf4q5I/AWkDGAlAiD/kU7/MzoCEP5ngQqwHdoQ/AZ8ySe9Hjz/nRhO9iE2XPwNfslKG3KA/EZwI7Cn6oD+ds1YhDQ2gP/1/AO3R1pw/Zk3pxCvnpT8E9+4gtpCeP/7EKFkqHaI/VvqjdVb3pT/2HgFvH++qP0vvesBttbE/pDrlksthtT8YchCPw/iyP12qHCXkiLQ/3fK/ThyZsj+LudvIlSq0P7kXFJ4idrA/\"},\"shape\":[24],\"dtype\":\"float64\",\"order\":\"little\"}],[\"WEAPON LAWS\",{\"type\":\"ndarray\",\"array\":{\"type\":\"bytes\",\"data\":\"X3M9ZgLcqz+z0vyEijekP8cCgRsO16A/vUgSQ2dIlz/8QhPf7Q+RP/MbsuXfNn4/d69i4majhz/e+kx9qCCWP1b9J6gly5g/r2iIrI5OoD+jGwz1TgqgPweQj5YtVKE/lFX8NsdTpz+D/N6ZpuenP8FUsyhIcKY/X3M9ZgLcqz/dtvNi3qKvP4zQx0qeua8/35x5io1fsT/+yONR3qOwP19zPWYC3Ks/O4zIP0MPqz/mLuviXhuwP7ym5TWCCaw/\"},\"shape\":[24],\"dtype\":\"float64\",\"order\":\"little\"}]]}}},\"view\":{\"type\":\"object\",\"name\":\"CDSView\",\"id\":\"p1722098\",\"attributes\":{\"filter\":{\"type\":\"object\",\"name\":\"AllIndices\",\"id\":\"p1722099\"}}},\"glyph\":{\"type\":\"object\",\"name\":\"VBar\",\"id\":\"p1722094\",\"attributes\":{\"x\":{\"type\":\"field\",\"field\":\"HourOfDay\"},\"width\":{\"type\":\"value\",\"value\":0.7},\"top\":{\"type\":\"field\",\"field\":\"ASSAULT\"},\"line_color\":{\"type\":\"value\",\"value\":\"#471063\"},\"fill_color\":{\"type\":\"value\",\"value\":\"#471063\"},\"fill_alpha\":{\"type\":\"value\",\"value\":1.9},\"hatch_color\":{\"type\":\"value\",\"value\":\"#471063\"}}},\"nonselection_glyph\":{\"type\":\"object\",\"name\":\"VBar\",\"id\":\"p1722095\",\"attributes\":{\"x\":{\"type\":\"field\",\"field\":\"HourOfDay\"},\"width\":{\"type\":\"value\",\"value\":0.7},\"top\":{\"type\":\"field\",\"field\":\"ASSAULT\"},\"line_color\":{\"type\":\"value\",\"value\":\"#471063\"},\"line_alpha\":{\"type\":\"value\",\"value\":0.1},\"fill_color\":{\"type\":\"value\",\"value\":\"#471063\"},\"fill_alpha\":{\"type\":\"value\",\"value\":0.1},\"hatch_color\":{\"type\":\"value\",\"value\":\"#471063\"},\"hatch_alpha\":{\"type\":\"value\",\"value\":0.1}}},\"muted_glyph\":{\"type\":\"object\",\"name\":\"VBar\",\"id\":\"p1722096\",\"attributes\":{\"x\":{\"type\":\"field\",\"field\":\"HourOfDay\"},\"width\":{\"type\":\"value\",\"value\":0.7},\"top\":{\"type\":\"field\",\"field\":\"ASSAULT\"},\"line_color\":{\"type\":\"value\",\"value\":\"#471063\"},\"line_alpha\":{\"type\":\"value\",\"value\":0.05},\"fill_color\":{\"type\":\"value\",\"value\":\"#471063\"},\"fill_alpha\":{\"type\":\"value\",\"value\":0.05},\"hatch_color\":{\"type\":\"value\",\"value\":\"#471063\"},\"hatch_alpha\":{\"type\":\"value\",\"value\":0.05}}},\"muted\":true}},{\"type\":\"object\",\"name\":\"GlyphRenderer\",\"id\":\"p1722106\",\"attributes\":{\"data_source\":{\"id\":\"p1271718\"},\"view\":{\"type\":\"object\",\"name\":\"CDSView\",\"id\":\"p1722107\",\"attributes\":{\"filter\":{\"type\":\"object\",\"name\":\"AllIndices\",\"id\":\"p1722108\"}}},\"glyph\":{\"type\":\"object\",\"name\":\"VBar\",\"id\":\"p1722103\",\"attributes\":{\"x\":{\"type\":\"field\",\"field\":\"HourOfDay\"},\"width\":{\"type\":\"value\",\"value\":0.7},\"top\":{\"type\":\"field\",\"field\":\"BURGLARY\"},\"line_color\":{\"type\":\"value\",\"value\":\"#481d6f\"},\"fill_color\":{\"type\":\"value\",\"value\":\"#481d6f\"},\"fill_alpha\":{\"type\":\"value\",\"value\":1.9},\"hatch_color\":{\"type\":\"value\",\"value\":\"#481d6f\"}}},\"nonselection_glyph\":{\"type\":\"object\",\"name\":\"VBar\",\"id\":\"p1722104\",\"attributes\":{\"x\":{\"type\":\"field\",\"field\":\"HourOfDay\"},\"width\":{\"type\":\"value\",\"value\":0.7},\"top\":{\"type\":\"field\",\"field\":\"BURGLARY\"},\"line_color\":{\"type\":\"value\",\"value\":\"#481d6f\"},\"line_alpha\":{\"type\":\"value\",\"value\":0.1},\"fill_color\":{\"type\":\"value\",\"value\":\"#481d6f\"},\"fill_alpha\":{\"type\":\"value\",\"value\":0.1},\"hatch_color\":{\"type\":\"value\",\"value\":\"#481d6f\"},\"hatch_alpha\":{\"type\":\"value\",\"value\":0.1}}},\"muted_glyph\":{\"type\":\"object\",\"name\":\"VBar\",\"id\":\"p1722105\",\"attributes\":{\"x\":{\"type\":\"field\",\"field\":\"HourOfDay\"},\"width\":{\"type\":\"value\",\"value\":0.7},\"top\":{\"type\":\"field\",\"field\":\"BURGLARY\"},\"line_color\":{\"type\":\"value\",\"value\":\"#481d6f\"},\"line_alpha\":{\"type\":\"value\",\"value\":0.05},\"fill_color\":{\"type\":\"value\",\"value\":\"#481d6f\"},\"fill_alpha\":{\"type\":\"value\",\"value\":0.05},\"hatch_color\":{\"type\":\"value\",\"value\":\"#481d6f\"},\"hatch_alpha\":{\"type\":\"value\",\"value\":0.05}}},\"muted\":true}},{\"type\":\"object\",\"name\":\"GlyphRenderer\",\"id\":\"p1722115\",\"attributes\":{\"data_source\":{\"id\":\"p1271718\"},\"view\":{\"type\":\"object\",\"name\":\"CDSView\",\"id\":\"p1722116\",\"attributes\":{\"filter\":{\"type\":\"object\",\"name\":\"AllIndices\",\"id\":\"p1722117\"}}},\"glyph\":{\"type\":\"object\",\"name\":\"VBar\",\"id\":\"p1722112\",\"attributes\":{\"x\":{\"type\":\"field\",\"field\":\"HourOfDay\"},\"width\":{\"type\":\"value\",\"value\":0.7},\"top\":{\"type\":\"field\",\"field\":\"DISORDERLY CONDUCT\"},\"line_color\":{\"type\":\"value\",\"value\":\"#472a7a\"},\"fill_color\":{\"type\":\"value\",\"value\":\"#472a7a\"},\"fill_alpha\":{\"type\":\"value\",\"value\":1.9},\"hatch_color\":{\"type\":\"value\",\"value\":\"#472a7a\"}}},\"nonselection_glyph\":{\"type\":\"object\",\"name\":\"VBar\",\"id\":\"p1722113\",\"attributes\":{\"x\":{\"type\":\"field\",\"field\":\"HourOfDay\"},\"width\":{\"type\":\"value\",\"value\":0.7},\"top\":{\"type\":\"field\",\"field\":\"DISORDERLY CONDUCT\"},\"line_color\":{\"type\":\"value\",\"value\":\"#472a7a\"},\"line_alpha\":{\"type\":\"value\",\"value\":0.1},\"fill_color\":{\"type\":\"value\",\"value\":\"#472a7a\"},\"fill_alpha\":{\"type\":\"value\",\"value\":0.1},\"hatch_color\":{\"type\":\"value\",\"value\":\"#472a7a\"},\"hatch_alpha\":{\"type\":\"value\",\"value\":0.1}}},\"muted_glyph\":{\"type\":\"object\",\"name\":\"VBar\",\"id\":\"p1722114\",\"attributes\":{\"x\":{\"type\":\"field\",\"field\":\"HourOfDay\"},\"width\":{\"type\":\"value\",\"value\":0.7},\"top\":{\"type\":\"field\",\"field\":\"DISORDERLY CONDUCT\"},\"line_color\":{\"type\":\"value\",\"value\":\"#472a7a\"},\"line_alpha\":{\"type\":\"value\",\"value\":0.05},\"fill_color\":{\"type\":\"value\",\"value\":\"#472a7a\"},\"fill_alpha\":{\"type\":\"value\",\"value\":0.05},\"hatch_color\":{\"type\":\"value\",\"value\":\"#472a7a\"},\"hatch_alpha\":{\"type\":\"value\",\"value\":0.05}}},\"muted\":true}},{\"type\":\"object\",\"name\":\"GlyphRenderer\",\"id\":\"p1722124\",\"attributes\":{\"data_source\":{\"id\":\"p1271718\"},\"view\":{\"type\":\"object\",\"name\":\"CDSView\",\"id\":\"p1722125\",\"attributes\":{\"filter\":{\"type\":\"object\",\"name\":\"AllIndices\",\"id\":\"p1722126\"}}},\"glyph\":{\"type\":\"object\",\"name\":\"VBar\",\"id\":\"p1722121\",\"attributes\":{\"x\":{\"type\":\"field\",\"field\":\"HourOfDay\"},\"width\":{\"type\":\"value\",\"value\":0.7},\"top\":{\"type\":\"field\",\"field\":\"DRIVING UNDER THE INFLUENCE\"},\"line_color\":{\"type\":\"value\",\"value\":\"#453781\"},\"fill_color\":{\"type\":\"value\",\"value\":\"#453781\"},\"fill_alpha\":{\"type\":\"value\",\"value\":1.9},\"hatch_color\":{\"type\":\"value\",\"value\":\"#453781\"}}},\"nonselection_glyph\":{\"type\":\"object\",\"name\":\"VBar\",\"id\":\"p1722122\",\"attributes\":{\"x\":{\"type\":\"field\",\"field\":\"HourOfDay\"},\"width\":{\"type\":\"value\",\"value\":0.7},\"top\":{\"type\":\"field\",\"field\":\"DRIVING UNDER THE INFLUENCE\"},\"line_color\":{\"type\":\"value\",\"value\":\"#453781\"},\"line_alpha\":{\"type\":\"value\",\"value\":0.1},\"fill_color\":{\"type\":\"value\",\"value\":\"#453781\"},\"fill_alpha\":{\"type\":\"value\",\"value\":0.1},\"hatch_color\":{\"type\":\"value\",\"value\":\"#453781\"},\"hatch_alpha\":{\"type\":\"value\",\"value\":0.1}}},\"muted_glyph\":{\"type\":\"object\",\"name\":\"VBar\",\"id\":\"p1722123\",\"attributes\":{\"x\":{\"type\":\"field\",\"field\":\"HourOfDay\"},\"width\":{\"type\":\"value\",\"value\":0.7},\"top\":{\"type\":\"field\",\"field\":\"DRIVING UNDER THE INFLUENCE\"},\"line_color\":{\"type\":\"value\",\"value\":\"#453781\"},\"line_alpha\":{\"type\":\"value\",\"value\":0.05},\"fill_color\":{\"type\":\"value\",\"value\":\"#453781\"},\"fill_alpha\":{\"type\":\"value\",\"value\":0.05},\"hatch_color\":{\"type\":\"value\",\"value\":\"#453781\"},\"hatch_alpha\":{\"type\":\"value\",\"value\":0.05}}},\"muted\":true}},{\"type\":\"object\",\"name\":\"GlyphRenderer\",\"id\":\"p1722133\",\"attributes\":{\"data_source\":{\"id\":\"p1271718\"},\"view\":{\"type\":\"object\",\"name\":\"CDSView\",\"id\":\"p1722134\",\"attributes\":{\"filter\":{\"type\":\"object\",\"name\":\"AllIndices\",\"id\":\"p1722135\"}}},\"glyph\":{\"type\":\"object\",\"name\":\"VBar\",\"id\":\"p1722130\",\"attributes\":{\"x\":{\"type\":\"field\",\"field\":\"HourOfDay\"},\"width\":{\"type\":\"value\",\"value\":0.7},\"top\":{\"type\":\"field\",\"field\":\"DRUG/NARCOTIC\"},\"line_color\":{\"type\":\"value\",\"value\":\"#414487\"},\"fill_color\":{\"type\":\"value\",\"value\":\"#414487\"},\"fill_alpha\":{\"type\":\"value\",\"value\":1.9},\"hatch_color\":{\"type\":\"value\",\"value\":\"#414487\"}}},\"nonselection_glyph\":{\"type\":\"object\",\"name\":\"VBar\",\"id\":\"p1722131\",\"attributes\":{\"x\":{\"type\":\"field\",\"field\":\"HourOfDay\"},\"width\":{\"type\":\"value\",\"value\":0.7},\"top\":{\"type\":\"field\",\"field\":\"DRUG/NARCOTIC\"},\"line_color\":{\"type\":\"value\",\"value\":\"#414487\"},\"line_alpha\":{\"type\":\"value\",\"value\":0.1},\"fill_color\":{\"type\":\"value\",\"value\":\"#414487\"},\"fill_alpha\":{\"type\":\"value\",\"value\":0.1},\"hatch_color\":{\"type\":\"value\",\"value\":\"#414487\"},\"hatch_alpha\":{\"type\":\"value\",\"value\":0.1}}},\"muted_glyph\":{\"type\":\"object\",\"name\":\"VBar\",\"id\":\"p1722132\",\"attributes\":{\"x\":{\"type\":\"field\",\"field\":\"HourOfDay\"},\"width\":{\"type\":\"value\",\"value\":0.7},\"top\":{\"type\":\"field\",\"field\":\"DRUG/NARCOTIC\"},\"line_color\":{\"type\":\"value\",\"value\":\"#414487\"},\"line_alpha\":{\"type\":\"value\",\"value\":0.05},\"fill_color\":{\"type\":\"value\",\"value\":\"#414487\"},\"fill_alpha\":{\"type\":\"value\",\"value\":0.05},\"hatch_color\":{\"type\":\"value\",\"value\":\"#414487\"},\"hatch_alpha\":{\"type\":\"value\",\"value\":0.05}}},\"muted\":true}},{\"type\":\"object\",\"name\":\"GlyphRenderer\",\"id\":\"p1722142\",\"attributes\":{\"data_source\":{\"id\":\"p1271718\"},\"view\":{\"type\":\"object\",\"name\":\"CDSView\",\"id\":\"p1722143\",\"attributes\":{\"filter\":{\"type\":\"object\",\"name\":\"AllIndices\",\"id\":\"p1722144\"}}},\"glyph\":{\"type\":\"object\",\"name\":\"VBar\",\"id\":\"p1722139\",\"attributes\":{\"x\":{\"type\":\"field\",\"field\":\"HourOfDay\"},\"width\":{\"type\":\"value\",\"value\":0.7},\"top\":{\"type\":\"field\",\"field\":\"DRUNKENNESS\"},\"line_color\":{\"type\":\"value\",\"value\":\"#3c4f8a\"},\"fill_color\":{\"type\":\"value\",\"value\":\"#3c4f8a\"},\"fill_alpha\":{\"type\":\"value\",\"value\":1.9},\"hatch_color\":{\"type\":\"value\",\"value\":\"#3c4f8a\"}}},\"nonselection_glyph\":{\"type\":\"object\",\"name\":\"VBar\",\"id\":\"p1722140\",\"attributes\":{\"x\":{\"type\":\"field\",\"field\":\"HourOfDay\"},\"width\":{\"type\":\"value\",\"value\":0.7},\"top\":{\"type\":\"field\",\"field\":\"DRUNKENNESS\"},\"line_color\":{\"type\":\"value\",\"value\":\"#3c4f8a\"},\"line_alpha\":{\"type\":\"value\",\"value\":0.1},\"fill_color\":{\"type\":\"value\",\"value\":\"#3c4f8a\"},\"fill_alpha\":{\"type\":\"value\",\"value\":0.1},\"hatch_color\":{\"type\":\"value\",\"value\":\"#3c4f8a\"},\"hatch_alpha\":{\"type\":\"value\",\"value\":0.1}}},\"muted_glyph\":{\"type\":\"object\",\"name\":\"VBar\",\"id\":\"p1722141\",\"attributes\":{\"x\":{\"type\":\"field\",\"field\":\"HourOfDay\"},\"width\":{\"type\":\"value\",\"value\":0.7},\"top\":{\"type\":\"field\",\"field\":\"DRUNKENNESS\"},\"line_color\":{\"type\":\"value\",\"value\":\"#3c4f8a\"},\"line_alpha\":{\"type\":\"value\",\"value\":0.05},\"fill_color\":{\"type\":\"value\",\"value\":\"#3c4f8a\"},\"fill_alpha\":{\"type\":\"value\",\"value\":0.05},\"hatch_color\":{\"type\":\"value\",\"value\":\"#3c4f8a\"},\"hatch_alpha\":{\"type\":\"value\",\"value\":0.05}}},\"muted\":true}},{\"type\":\"object\",\"name\":\"GlyphRenderer\",\"id\":\"p1722151\",\"attributes\":{\"data_source\":{\"id\":\"p1271718\"},\"view\":{\"type\":\"object\",\"name\":\"CDSView\",\"id\":\"p1722152\",\"attributes\":{\"filter\":{\"type\":\"object\",\"name\":\"AllIndices\",\"id\":\"p1722153\"}}},\"glyph\":{\"type\":\"object\",\"name\":\"VBar\",\"id\":\"p1722148\",\"attributes\":{\"x\":{\"type\":\"field\",\"field\":\"HourOfDay\"},\"width\":{\"type\":\"value\",\"value\":0.7},\"top\":{\"type\":\"field\",\"field\":\"LARCENY/THEFT\"},\"line_color\":{\"type\":\"value\",\"value\":\"#375a8c\"},\"fill_color\":{\"type\":\"value\",\"value\":\"#375a8c\"},\"fill_alpha\":{\"type\":\"value\",\"value\":1.9},\"hatch_color\":{\"type\":\"value\",\"value\":\"#375a8c\"}}},\"nonselection_glyph\":{\"type\":\"object\",\"name\":\"VBar\",\"id\":\"p1722149\",\"attributes\":{\"x\":{\"type\":\"field\",\"field\":\"HourOfDay\"},\"width\":{\"type\":\"value\",\"value\":0.7},\"top\":{\"type\":\"field\",\"field\":\"LARCENY/THEFT\"},\"line_color\":{\"type\":\"value\",\"value\":\"#375a8c\"},\"line_alpha\":{\"type\":\"value\",\"value\":0.1},\"fill_color\":{\"type\":\"value\",\"value\":\"#375a8c\"},\"fill_alpha\":{\"type\":\"value\",\"value\":0.1},\"hatch_color\":{\"type\":\"value\",\"value\":\"#375a8c\"},\"hatch_alpha\":{\"type\":\"value\",\"value\":0.1}}},\"muted_glyph\":{\"type\":\"object\",\"name\":\"VBar\",\"id\":\"p1722150\",\"attributes\":{\"x\":{\"type\":\"field\",\"field\":\"HourOfDay\"},\"width\":{\"type\":\"value\",\"value\":0.7},\"top\":{\"type\":\"field\",\"field\":\"LARCENY/THEFT\"},\"line_color\":{\"type\":\"value\",\"value\":\"#375a8c\"},\"line_alpha\":{\"type\":\"value\",\"value\":0.05},\"fill_color\":{\"type\":\"value\",\"value\":\"#375a8c\"},\"fill_alpha\":{\"type\":\"value\",\"value\":0.05},\"hatch_color\":{\"type\":\"value\",\"value\":\"#375a8c\"},\"hatch_alpha\":{\"type\":\"value\",\"value\":0.05}}},\"muted\":true}},{\"type\":\"object\",\"name\":\"GlyphRenderer\",\"id\":\"p1722160\",\"attributes\":{\"data_source\":{\"id\":\"p1271718\"},\"view\":{\"type\":\"object\",\"name\":\"CDSView\",\"id\":\"p1722161\",\"attributes\":{\"filter\":{\"type\":\"object\",\"name\":\"AllIndices\",\"id\":\"p1722162\"}}},\"glyph\":{\"type\":\"object\",\"name\":\"VBar\",\"id\":\"p1722157\",\"attributes\":{\"x\":{\"type\":\"field\",\"field\":\"HourOfDay\"},\"width\":{\"type\":\"value\",\"value\":0.7},\"top\":{\"type\":\"field\",\"field\":\"PROSTITUTION\"},\"line_color\":{\"type\":\"value\",\"value\":\"#32648e\"},\"fill_color\":{\"type\":\"value\",\"value\":\"#32648e\"},\"fill_alpha\":{\"type\":\"value\",\"value\":1.9},\"hatch_color\":{\"type\":\"value\",\"value\":\"#32648e\"}}},\"nonselection_glyph\":{\"type\":\"object\",\"name\":\"VBar\",\"id\":\"p1722158\",\"attributes\":{\"x\":{\"type\":\"field\",\"field\":\"HourOfDay\"},\"width\":{\"type\":\"value\",\"value\":0.7},\"top\":{\"type\":\"field\",\"field\":\"PROSTITUTION\"},\"line_color\":{\"type\":\"value\",\"value\":\"#32648e\"},\"line_alpha\":{\"type\":\"value\",\"value\":0.1},\"fill_color\":{\"type\":\"value\",\"value\":\"#32648e\"},\"fill_alpha\":{\"type\":\"value\",\"value\":0.1},\"hatch_color\":{\"type\":\"value\",\"value\":\"#32648e\"},\"hatch_alpha\":{\"type\":\"value\",\"value\":0.1}}},\"muted_glyph\":{\"type\":\"object\",\"name\":\"VBar\",\"id\":\"p1722159\",\"attributes\":{\"x\":{\"type\":\"field\",\"field\":\"HourOfDay\"},\"width\":{\"type\":\"value\",\"value\":0.7},\"top\":{\"type\":\"field\",\"field\":\"PROSTITUTION\"},\"line_color\":{\"type\":\"value\",\"value\":\"#32648e\"},\"line_alpha\":{\"type\":\"value\",\"value\":0.05},\"fill_color\":{\"type\":\"value\",\"value\":\"#32648e\"},\"fill_alpha\":{\"type\":\"value\",\"value\":0.05},\"hatch_color\":{\"type\":\"value\",\"value\":\"#32648e\"},\"hatch_alpha\":{\"type\":\"value\",\"value\":0.05}}},\"muted\":true}},{\"type\":\"object\",\"name\":\"GlyphRenderer\",\"id\":\"p1722169\",\"attributes\":{\"data_source\":{\"id\":\"p1271718\"},\"view\":{\"type\":\"object\",\"name\":\"CDSView\",\"id\":\"p1722170\",\"attributes\":{\"filter\":{\"type\":\"object\",\"name\":\"AllIndices\",\"id\":\"p1722171\"}}},\"glyph\":{\"type\":\"object\",\"name\":\"VBar\",\"id\":\"p1722166\",\"attributes\":{\"x\":{\"type\":\"field\",\"field\":\"HourOfDay\"},\"width\":{\"type\":\"value\",\"value\":0.7},\"top\":{\"type\":\"field\",\"field\":\"ROBBERY\"},\"line_color\":{\"type\":\"value\",\"value\":\"#2e6f8e\"},\"fill_color\":{\"type\":\"value\",\"value\":\"#2e6f8e\"},\"fill_alpha\":{\"type\":\"value\",\"value\":1.9},\"hatch_color\":{\"type\":\"value\",\"value\":\"#2e6f8e\"}}},\"nonselection_glyph\":{\"type\":\"object\",\"name\":\"VBar\",\"id\":\"p1722167\",\"attributes\":{\"x\":{\"type\":\"field\",\"field\":\"HourOfDay\"},\"width\":{\"type\":\"value\",\"value\":0.7},\"top\":{\"type\":\"field\",\"field\":\"ROBBERY\"},\"line_color\":{\"type\":\"value\",\"value\":\"#2e6f8e\"},\"line_alpha\":{\"type\":\"value\",\"value\":0.1},\"fill_color\":{\"type\":\"value\",\"value\":\"#2e6f8e\"},\"fill_alpha\":{\"type\":\"value\",\"value\":0.1},\"hatch_color\":{\"type\":\"value\",\"value\":\"#2e6f8e\"},\"hatch_alpha\":{\"type\":\"value\",\"value\":0.1}}},\"muted_glyph\":{\"type\":\"object\",\"name\":\"VBar\",\"id\":\"p1722168\",\"attributes\":{\"x\":{\"type\":\"field\",\"field\":\"HourOfDay\"},\"width\":{\"type\":\"value\",\"value\":0.7},\"top\":{\"type\":\"field\",\"field\":\"ROBBERY\"},\"line_color\":{\"type\":\"value\",\"value\":\"#2e6f8e\"},\"line_alpha\":{\"type\":\"value\",\"value\":0.05},\"fill_color\":{\"type\":\"value\",\"value\":\"#2e6f8e\"},\"fill_alpha\":{\"type\":\"value\",\"value\":0.05},\"hatch_color\":{\"type\":\"value\",\"value\":\"#2e6f8e\"},\"hatch_alpha\":{\"type\":\"value\",\"value\":0.05}}},\"muted\":true}},{\"type\":\"object\",\"name\":\"GlyphRenderer\",\"id\":\"p1722178\",\"attributes\":{\"data_source\":{\"id\":\"p1271718\"},\"view\":{\"type\":\"object\",\"name\":\"CDSView\",\"id\":\"p1722179\",\"attributes\":{\"filter\":{\"type\":\"object\",\"name\":\"AllIndices\",\"id\":\"p1722180\"}}},\"glyph\":{\"type\":\"object\",\"name\":\"VBar\",\"id\":\"p1722175\",\"attributes\":{\"x\":{\"type\":\"field\",\"field\":\"HourOfDay\"},\"width\":{\"type\":\"value\",\"value\":0.7},\"top\":{\"type\":\"field\",\"field\":\"STOLEN PROPERTY\"},\"line_color\":{\"type\":\"value\",\"value\":\"#2a788e\"},\"fill_color\":{\"type\":\"value\",\"value\":\"#2a788e\"},\"fill_alpha\":{\"type\":\"value\",\"value\":1.9},\"hatch_color\":{\"type\":\"value\",\"value\":\"#2a788e\"}}},\"nonselection_glyph\":{\"type\":\"object\",\"name\":\"VBar\",\"id\":\"p1722176\",\"attributes\":{\"x\":{\"type\":\"field\",\"field\":\"HourOfDay\"},\"width\":{\"type\":\"value\",\"value\":0.7},\"top\":{\"type\":\"field\",\"field\":\"STOLEN PROPERTY\"},\"line_color\":{\"type\":\"value\",\"value\":\"#2a788e\"},\"line_alpha\":{\"type\":\"value\",\"value\":0.1},\"fill_color\":{\"type\":\"value\",\"value\":\"#2a788e\"},\"fill_alpha\":{\"type\":\"value\",\"value\":0.1},\"hatch_color\":{\"type\":\"value\",\"value\":\"#2a788e\"},\"hatch_alpha\":{\"type\":\"value\",\"value\":0.1}}},\"muted_glyph\":{\"type\":\"object\",\"name\":\"VBar\",\"id\":\"p1722177\",\"attributes\":{\"x\":{\"type\":\"field\",\"field\":\"HourOfDay\"},\"width\":{\"type\":\"value\",\"value\":0.7},\"top\":{\"type\":\"field\",\"field\":\"STOLEN PROPERTY\"},\"line_color\":{\"type\":\"value\",\"value\":\"#2a788e\"},\"line_alpha\":{\"type\":\"value\",\"value\":0.05},\"fill_color\":{\"type\":\"value\",\"value\":\"#2a788e\"},\"fill_alpha\":{\"type\":\"value\",\"value\":0.05},\"hatch_color\":{\"type\":\"value\",\"value\":\"#2a788e\"},\"hatch_alpha\":{\"type\":\"value\",\"value\":0.05}}},\"muted\":true}},{\"type\":\"object\",\"name\":\"GlyphRenderer\",\"id\":\"p1722187\",\"attributes\":{\"data_source\":{\"id\":\"p1271718\"},\"view\":{\"type\":\"object\",\"name\":\"CDSView\",\"id\":\"p1722188\",\"attributes\":{\"filter\":{\"type\":\"object\",\"name\":\"AllIndices\",\"id\":\"p1722189\"}}},\"glyph\":{\"type\":\"object\",\"name\":\"VBar\",\"id\":\"p1722184\",\"attributes\":{\"x\":{\"type\":\"field\",\"field\":\"HourOfDay\"},\"width\":{\"type\":\"value\",\"value\":0.7},\"top\":{\"type\":\"field\",\"field\":\"TRESPASS\"},\"line_color\":{\"type\":\"value\",\"value\":\"#26828e\"},\"fill_color\":{\"type\":\"value\",\"value\":\"#26828e\"},\"fill_alpha\":{\"type\":\"value\",\"value\":1.9},\"hatch_color\":{\"type\":\"value\",\"value\":\"#26828e\"}}},\"nonselection_glyph\":{\"type\":\"object\",\"name\":\"VBar\",\"id\":\"p1722185\",\"attributes\":{\"x\":{\"type\":\"field\",\"field\":\"HourOfDay\"},\"width\":{\"type\":\"value\",\"value\":0.7},\"top\":{\"type\":\"field\",\"field\":\"TRESPASS\"},\"line_color\":{\"type\":\"value\",\"value\":\"#26828e\"},\"line_alpha\":{\"type\":\"value\",\"value\":0.1},\"fill_color\":{\"type\":\"value\",\"value\":\"#26828e\"},\"fill_alpha\":{\"type\":\"value\",\"value\":0.1},\"hatch_color\":{\"type\":\"value\",\"value\":\"#26828e\"},\"hatch_alpha\":{\"type\":\"value\",\"value\":0.1}}},\"muted_glyph\":{\"type\":\"object\",\"name\":\"VBar\",\"id\":\"p1722186\",\"attributes\":{\"x\":{\"type\":\"field\",\"field\":\"HourOfDay\"},\"width\":{\"type\":\"value\",\"value\":0.7},\"top\":{\"type\":\"field\",\"field\":\"TRESPASS\"},\"line_color\":{\"type\":\"value\",\"value\":\"#26828e\"},\"line_alpha\":{\"type\":\"value\",\"value\":0.05},\"fill_color\":{\"type\":\"value\",\"value\":\"#26828e\"},\"fill_alpha\":{\"type\":\"value\",\"value\":0.05},\"hatch_color\":{\"type\":\"value\",\"value\":\"#26828e\"},\"hatch_alpha\":{\"type\":\"value\",\"value\":0.05}}},\"muted\":true}},{\"type\":\"object\",\"name\":\"GlyphRenderer\",\"id\":\"p1722196\",\"attributes\":{\"data_source\":{\"id\":\"p1271718\"},\"view\":{\"type\":\"object\",\"name\":\"CDSView\",\"id\":\"p1722197\",\"attributes\":{\"filter\":{\"type\":\"object\",\"name\":\"AllIndices\",\"id\":\"p1722198\"}}},\"glyph\":{\"type\":\"object\",\"name\":\"VBar\",\"id\":\"p1722193\",\"attributes\":{\"x\":{\"type\":\"field\",\"field\":\"HourOfDay\"},\"width\":{\"type\":\"value\",\"value\":0.7},\"top\":{\"type\":\"field\",\"field\":\"VANDALISM\"},\"line_color\":{\"type\":\"value\",\"value\":\"#228b8d\"},\"fill_color\":{\"type\":\"value\",\"value\":\"#228b8d\"},\"fill_alpha\":{\"type\":\"value\",\"value\":1.9},\"hatch_color\":{\"type\":\"value\",\"value\":\"#228b8d\"}}},\"nonselection_glyph\":{\"type\":\"object\",\"name\":\"VBar\",\"id\":\"p1722194\",\"attributes\":{\"x\":{\"type\":\"field\",\"field\":\"HourOfDay\"},\"width\":{\"type\":\"value\",\"value\":0.7},\"top\":{\"type\":\"field\",\"field\":\"VANDALISM\"},\"line_color\":{\"type\":\"value\",\"value\":\"#228b8d\"},\"line_alpha\":{\"type\":\"value\",\"value\":0.1},\"fill_color\":{\"type\":\"value\",\"value\":\"#228b8d\"},\"fill_alpha\":{\"type\":\"value\",\"value\":0.1},\"hatch_color\":{\"type\":\"value\",\"value\":\"#228b8d\"},\"hatch_alpha\":{\"type\":\"value\",\"value\":0.1}}},\"muted_glyph\":{\"type\":\"object\",\"name\":\"VBar\",\"id\":\"p1722195\",\"attributes\":{\"x\":{\"type\":\"field\",\"field\":\"HourOfDay\"},\"width\":{\"type\":\"value\",\"value\":0.7},\"top\":{\"type\":\"field\",\"field\":\"VANDALISM\"},\"line_color\":{\"type\":\"value\",\"value\":\"#228b8d\"},\"line_alpha\":{\"type\":\"value\",\"value\":0.05},\"fill_color\":{\"type\":\"value\",\"value\":\"#228b8d\"},\"fill_alpha\":{\"type\":\"value\",\"value\":0.05},\"hatch_color\":{\"type\":\"value\",\"value\":\"#228b8d\"},\"hatch_alpha\":{\"type\":\"value\",\"value\":0.05}}},\"muted\":true}},{\"type\":\"object\",\"name\":\"GlyphRenderer\",\"id\":\"p1722205\",\"attributes\":{\"data_source\":{\"id\":\"p1271718\"},\"view\":{\"type\":\"object\",\"name\":\"CDSView\",\"id\":\"p1722206\",\"attributes\":{\"filter\":{\"type\":\"object\",\"name\":\"AllIndices\",\"id\":\"p1722207\"}}},\"glyph\":{\"type\":\"object\",\"name\":\"VBar\",\"id\":\"p1722202\",\"attributes\":{\"x\":{\"type\":\"field\",\"field\":\"HourOfDay\"},\"width\":{\"type\":\"value\",\"value\":0.7},\"top\":{\"type\":\"field\",\"field\":\"VEHICLE THEFT\"},\"line_color\":{\"type\":\"value\",\"value\":\"#1f958b\"},\"fill_color\":{\"type\":\"value\",\"value\":\"#1f958b\"},\"fill_alpha\":{\"type\":\"value\",\"value\":1.9},\"hatch_color\":{\"type\":\"value\",\"value\":\"#1f958b\"}}},\"nonselection_glyph\":{\"type\":\"object\",\"name\":\"VBar\",\"id\":\"p1722203\",\"attributes\":{\"x\":{\"type\":\"field\",\"field\":\"HourOfDay\"},\"width\":{\"type\":\"value\",\"value\":0.7},\"top\":{\"type\":\"field\",\"field\":\"VEHICLE THEFT\"},\"line_color\":{\"type\":\"value\",\"value\":\"#1f958b\"},\"line_alpha\":{\"type\":\"value\",\"value\":0.1},\"fill_color\":{\"type\":\"value\",\"value\":\"#1f958b\"},\"fill_alpha\":{\"type\":\"value\",\"value\":0.1},\"hatch_color\":{\"type\":\"value\",\"value\":\"#1f958b\"},\"hatch_alpha\":{\"type\":\"value\",\"value\":0.1}}},\"muted_glyph\":{\"type\":\"object\",\"name\":\"VBar\",\"id\":\"p1722204\",\"attributes\":{\"x\":{\"type\":\"field\",\"field\":\"HourOfDay\"},\"width\":{\"type\":\"value\",\"value\":0.7},\"top\":{\"type\":\"field\",\"field\":\"VEHICLE THEFT\"},\"line_color\":{\"type\":\"value\",\"value\":\"#1f958b\"},\"line_alpha\":{\"type\":\"value\",\"value\":0.05},\"fill_color\":{\"type\":\"value\",\"value\":\"#1f958b\"},\"fill_alpha\":{\"type\":\"value\",\"value\":0.05},\"hatch_color\":{\"type\":\"value\",\"value\":\"#1f958b\"},\"hatch_alpha\":{\"type\":\"value\",\"value\":0.05}}},\"muted\":true}},{\"type\":\"object\",\"name\":\"GlyphRenderer\",\"id\":\"p1722214\",\"attributes\":{\"data_source\":{\"id\":\"p1271718\"},\"view\":{\"type\":\"object\",\"name\":\"CDSView\",\"id\":\"p1722215\",\"attributes\":{\"filter\":{\"type\":\"object\",\"name\":\"AllIndices\",\"id\":\"p1722216\"}}},\"glyph\":{\"type\":\"object\",\"name\":\"VBar\",\"id\":\"p1722211\",\"attributes\":{\"x\":{\"type\":\"field\",\"field\":\"HourOfDay\"},\"width\":{\"type\":\"value\",\"value\":0.7},\"top\":{\"type\":\"field\",\"field\":\"WEAPON LAWS\"},\"line_color\":{\"type\":\"value\",\"value\":\"#1f9f88\"},\"fill_color\":{\"type\":\"value\",\"value\":\"#1f9f88\"},\"fill_alpha\":{\"type\":\"value\",\"value\":1.9},\"hatch_color\":{\"type\":\"value\",\"value\":\"#1f9f88\"}}},\"nonselection_glyph\":{\"type\":\"object\",\"name\":\"VBar\",\"id\":\"p1722212\",\"attributes\":{\"x\":{\"type\":\"field\",\"field\":\"HourOfDay\"},\"width\":{\"type\":\"value\",\"value\":0.7},\"top\":{\"type\":\"field\",\"field\":\"WEAPON LAWS\"},\"line_color\":{\"type\":\"value\",\"value\":\"#1f9f88\"},\"line_alpha\":{\"type\":\"value\",\"value\":0.1},\"fill_color\":{\"type\":\"value\",\"value\":\"#1f9f88\"},\"fill_alpha\":{\"type\":\"value\",\"value\":0.1},\"hatch_color\":{\"type\":\"value\",\"value\":\"#1f9f88\"},\"hatch_alpha\":{\"type\":\"value\",\"value\":0.1}}},\"muted_glyph\":{\"type\":\"object\",\"name\":\"VBar\",\"id\":\"p1722213\",\"attributes\":{\"x\":{\"type\":\"field\",\"field\":\"HourOfDay\"},\"width\":{\"type\":\"value\",\"value\":0.7},\"top\":{\"type\":\"field\",\"field\":\"WEAPON LAWS\"},\"line_color\":{\"type\":\"value\",\"value\":\"#1f9f88\"},\"line_alpha\":{\"type\":\"value\",\"value\":0.05},\"fill_color\":{\"type\":\"value\",\"value\":\"#1f9f88\"},\"fill_alpha\":{\"type\":\"value\",\"value\":0.05},\"hatch_color\":{\"type\":\"value\",\"value\":\"#1f9f88\"},\"hatch_alpha\":{\"type\":\"value\",\"value\":0.05}}},\"muted\":true}}],\"toolbar\":{\"type\":\"object\",\"name\":\"Toolbar\",\"id\":\"p1722050\",\"attributes\":{\"tools\":[{\"type\":\"object\",\"name\":\"PanTool\",\"id\":\"p1722076\"},{\"type\":\"object\",\"name\":\"WheelZoomTool\",\"id\":\"p1722077\"},{\"type\":\"object\",\"name\":\"BoxZoomTool\",\"id\":\"p1722078\",\"attributes\":{\"overlay\":{\"type\":\"object\",\"name\":\"BoxAnnotation\",\"id\":\"p1722079\",\"attributes\":{\"syncable\":false,\"level\":\"overlay\",\"visible\":false,\"left_units\":\"canvas\",\"right_units\":\"canvas\",\"bottom_units\":\"canvas\",\"top_units\":\"canvas\",\"line_color\":\"black\",\"line_alpha\":1.0,\"line_width\":2,\"line_dash\":[4,4],\"fill_color\":\"lightgrey\",\"fill_alpha\":0.5}}}},{\"type\":\"object\",\"name\":\"SaveTool\",\"id\":\"p1722080\"},{\"type\":\"object\",\"name\":\"ResetTool\",\"id\":\"p1722081\"},{\"type\":\"object\",\"name\":\"HelpTool\",\"id\":\"p1722082\"}]}},\"left\":[{\"type\":\"object\",\"name\":\"LinearAxis\",\"id\":\"p1722069\",\"attributes\":{\"ticker\":{\"type\":\"object\",\"name\":\"BasicTicker\",\"id\":\"p1722071\",\"attributes\":{\"mantissas\":[1,2,5]}},\"formatter\":{\"type\":\"object\",\"name\":\"BasicTickFormatter\",\"id\":\"p1722070\"},\"major_label_policy\":{\"type\":\"object\",\"name\":\"AllLabels\",\"id\":\"p1722072\"}}},{\"type\":\"object\",\"name\":\"Legend\",\"id\":\"p1722217\",\"attributes\":{\"click_policy\":\"mute\",\"items\":[{\"type\":\"object\",\"name\":\"LegendItem\",\"id\":\"p1722218\",\"attributes\":{\"label\":{\"type\":\"value\",\"value\":\"ASSAULT\"},\"renderers\":[{\"id\":\"p1722097\"}]}},{\"type\":\"object\",\"name\":\"LegendItem\",\"id\":\"p1722219\",\"attributes\":{\"label\":{\"type\":\"value\",\"value\":\"BURGLARY\"},\"renderers\":[{\"id\":\"p1722106\"}]}},{\"type\":\"object\",\"name\":\"LegendItem\",\"id\":\"p1722220\",\"attributes\":{\"label\":{\"type\":\"value\",\"value\":\"DISORDERLY CONDUCT\"},\"renderers\":[{\"id\":\"p1722115\"}]}},{\"type\":\"object\",\"name\":\"LegendItem\",\"id\":\"p1722221\",\"attributes\":{\"label\":{\"type\":\"value\",\"value\":\"DRIVING UNDER THE INFLUENCE\"},\"renderers\":[{\"id\":\"p1722124\"}]}},{\"type\":\"object\",\"name\":\"LegendItem\",\"id\":\"p1722222\",\"attributes\":{\"label\":{\"type\":\"value\",\"value\":\"DRUG/NARCOTIC\"},\"renderers\":[{\"id\":\"p1722133\"}]}},{\"type\":\"object\",\"name\":\"LegendItem\",\"id\":\"p1722223\",\"attributes\":{\"label\":{\"type\":\"value\",\"value\":\"DRUNKENNESS\"},\"renderers\":[{\"id\":\"p1722142\"}]}},{\"type\":\"object\",\"name\":\"LegendItem\",\"id\":\"p1722224\",\"attributes\":{\"label\":{\"type\":\"value\",\"value\":\"LARCENY/THEFT\"},\"renderers\":[{\"id\":\"p1722151\"}]}},{\"type\":\"object\",\"name\":\"LegendItem\",\"id\":\"p1722225\",\"attributes\":{\"label\":{\"type\":\"value\",\"value\":\"PROSTITUTION\"},\"renderers\":[{\"id\":\"p1722160\"}]}},{\"type\":\"object\",\"name\":\"LegendItem\",\"id\":\"p1722226\",\"attributes\":{\"label\":{\"type\":\"value\",\"value\":\"ROBBERY\"},\"renderers\":[{\"id\":\"p1722169\"}]}},{\"type\":\"object\",\"name\":\"LegendItem\",\"id\":\"p1722227\",\"attributes\":{\"label\":{\"type\":\"value\",\"value\":\"STOLEN PROPERTY\"},\"renderers\":[{\"id\":\"p1722178\"}]}},{\"type\":\"object\",\"name\":\"LegendItem\",\"id\":\"p1722228\",\"attributes\":{\"label\":{\"type\":\"value\",\"value\":\"TRESPASS\"},\"renderers\":[{\"id\":\"p1722187\"}]}},{\"type\":\"object\",\"name\":\"LegendItem\",\"id\":\"p1722229\",\"attributes\":{\"label\":{\"type\":\"value\",\"value\":\"VANDALISM\"},\"renderers\":[{\"id\":\"p1722196\"}]}},{\"type\":\"object\",\"name\":\"LegendItem\",\"id\":\"p1722230\",\"attributes\":{\"label\":{\"type\":\"value\",\"value\":\"VEHICLE THEFT\"},\"renderers\":[{\"id\":\"p1722205\"}]}},{\"type\":\"object\",\"name\":\"LegendItem\",\"id\":\"p1722231\",\"attributes\":{\"label\":{\"type\":\"value\",\"value\":\"WEAPON LAWS\"},\"renderers\":[{\"id\":\"p1722214\"}]}}]}}],\"below\":[{\"type\":\"object\",\"name\":\"CategoricalAxis\",\"id\":\"p1722063\",\"attributes\":{\"ticker\":{\"type\":\"object\",\"name\":\"CategoricalTicker\",\"id\":\"p1722065\"},\"formatter\":{\"type\":\"object\",\"name\":\"CategoricalTickFormatter\",\"id\":\"p1722064\"},\"axis_label\":\"Hour of the Day\",\"major_label_policy\":{\"type\":\"object\",\"name\":\"AllLabels\",\"id\":\"p1722066\"}}}],\"center\":[{\"type\":\"object\",\"name\":\"Grid\",\"id\":\"p1722068\",\"attributes\":{\"axis\":{\"id\":\"p1722063\"}}},{\"type\":\"object\",\"name\":\"Grid\",\"id\":\"p1722075\",\"attributes\":{\"dimension\":1,\"axis\":{\"id\":\"p1722069\"}}}]}}],\"callbacks\":{\"type\":\"map\"}}};\n  const render_items = [{\"docid\":\"d82d384b-ed36-43a5-a23b-bb1b26b291a7\",\"roots\":{\"p1722045\":\"f2d2d16f-af64-4bcf-8ed7-82590c839e58\"},\"root_ids\":[\"p1722045\"]}];\n  root.Bokeh.embed.embed_items_notebook(docs_json, render_items);\n  }\n  if (root.Bokeh !== undefined) {\n    embed_document(root);\n  } else {\n    let attempts = 0;\n    const timer = setInterval(function(root) {\n      if (root.Bokeh !== undefined) {\n        clearInterval(timer);\n        embed_document(root);\n      } else {\n        attempts++;\n        if (attempts > 100) {\n          clearInterval(timer);\n          console.log(\"Bokeh: ERROR: Unable to run BokehJS code because BokehJS library is missing\");\n        }\n      }\n    }, 10, root)\n  }\n})(window);",
      "application/vnd.bokehjs_exec.v0+json": ""
     },
     "metadata": {
      "application/vnd.bokehjs_exec.v0+json": {
       "id": "p1722045"
      }
     },
     "output_type": "display_data"
    }
   ],
   "source": [
    "legend = Legend(items=items)\n",
    "p.add_layout(legend, 'left') \n",
    "p.legend.click_policy=\"mute\" \n",
    "#test\n",
    "### assigns the click policy (you can try to use ''hide'\n",
    "show(p)\n",
    "#displays your plot"
   ]
  }
 ],
 "metadata": {
  "kernelspec": {
   "display_name": "Python 3",
   "language": "python",
   "name": "python3"
  },
  "language_info": {
   "codemirror_mode": {
    "name": "ipython",
    "version": 3
   },
   "file_extension": ".py",
   "mimetype": "text/x-python",
   "name": "python",
   "nbconvert_exporter": "python",
   "pygments_lexer": "ipython3",
   "version": "3.11.1"
  },
  "orig_nbformat": 4
 },
 "nbformat": 4,
 "nbformat_minor": 2
}
